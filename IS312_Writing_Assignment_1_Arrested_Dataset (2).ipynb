{
  "nbformat": 4,
  "nbformat_minor": 0,
  "metadata": {
    "colab": {
      "provenance": []
    },
    "kernelspec": {
      "name": "python3",
      "display_name": "Python 3"
    },
    "language_info": {
      "name": "python"
    }
  },
  "cells": [
    {
      "cell_type": "markdown",
      "source": [
        "#Literate Program: Chicago Crime Analysis\n",
        "By Kayla Moy"
      ],
      "metadata": {
        "id": "rjZyahqK9uN2"
      }
    },
    {
      "cell_type": "markdown",
      "source": [
        "Surprisingly, in the city of Chicago there’s an average of more female arrests than male arrests. This means there is no gender bias towards males being the most arrested.  In my “literate programming” project, I imported the dataset “Chicago-Crime-Analysis” from GitHub onto Google Collab. The Chicago Crime Data information is from the CPD CLEAR's system posted on Kaggle. The data collected and used here is from crimes committed by people between 2005 and February 2017 in Chicago. I chose this dataset because it can help prove there is no gender bias between males and females and that there are more female arrests than males. The information in the imported data can tell you more behind criminal occurrences in Chicago, where the occurrences happen most often in Chicago based on zip code, background information about the individual for why they might have done it, and the environment they grew up in. Furthermore, by analyzing the data, we can gain insight into the socioeconomic backgrounds of the individuals arrested. This information can help sociologists and social workers to better understand why certain individuals may turn to crime, and what can be done to prevent it. I chose this dataset to specifically explore the amount of criminal occurrences by gender in the Chicagoland area and wanted to generate visualizations to display the amount of crimes occurring around Chicago. By analyzing this data, we can gain insight into the motivations and backgrounds of those arrested, as well as the types of crimes they are committing. Additionally, this information can be used to better understand the motivations behind certain crimes, and to potentially design better solutions for preventing them.\n",
        "\n",
        "\n",
        "\n",
        "\n",
        "In my project, I used the python library pandas to manipulate and analyze my information. This is also known as pd. To run and use this platform, you need to run:\n",
        "\n",
        "**import pandas as pd** **bold text**\n",
        "\n",
        "This imports and lets you run the panda data analysis library. As you can see below, I also have other imports such as numpy (np), Plotly Express, and matplotlib. I will go over these functions as they are used to make visualizations or display data.\n"
      ],
      "metadata": {
        "id": "2zqRU_nc8F3V"
      }
    },
    {
      "cell_type": "code",
      "execution_count": 1,
      "metadata": {
        "id": "ymPxAGa2DoAg"
      },
      "outputs": [],
      "source": [
        "import pandas as pd\n",
        "import numpy as np\n",
        "import plotly.express as px\n",
        "import matplotlib.pyplot as plt"
      ]
    },
    {
      "cell_type": "markdown",
      "source": [
        "It is important to note the dataframes and datasets are different even though they both store data. A dataframe, or df, is a two-dimensional structure of data that contains columns and rows. A dataset is the information collected from data that contains information for the specific source. The information from datasets can be sources of records or information obtained from scientific studies. Dataframes can store data that present data in columns or data tables. Datasets can store multiple types of information such as images, numbers, and text. \n",
        "After choosing a dataset, the first thing to do is import it and look at the data. Above is a screenshot of the “Chicago-Crime-Analaysis” dataset from Github. Users need to import the data and store it into a dataframe, otherwise known as “df.” To read in the data, the user needs to implement “pd.read_csv(‘dataset_link’).”\n",
        "\n",
        " In my case, I had to import my dataset from my Google Drive. By using the code below:\n",
        "\n",
        "from google.colab import drive\n",
        "\n",
        "drive.mount('/content/drive')\n"
      ],
      "metadata": {
        "id": "YxqUY0iM5mla"
      }
    },
    {
      "cell_type": "code",
      "source": [
        "from google.colab import drive\n",
        "drive.mount('/content/drive')"
      ],
      "metadata": {
        "colab": {
          "base_uri": "https://localhost:8080/"
        },
        "id": "jyhNMqzLhih6",
        "outputId": "91095556-55a4-405e-d8e3-0239597cd62a"
      },
      "execution_count": 2,
      "outputs": [
        {
          "output_type": "stream",
          "name": "stdout",
          "text": [
            "Mounted at /content/drive\n"
          ]
        }
      ]
    },
    {
      "cell_type": "code",
      "source": [
        "import io\n",
        "import requests\n",
        "\n",
        "url = \"https://raw.githubusercontent.com/ajitkoduri/Chicago-Crime-Analysis/master/Chicago_Zip_Data.csv\" # Make sure the url is the raw version of the file on GitHub\n",
        "download = requests.get(url).content\n",
        "\n",
        "# Reading downloaded content and turning it into a pandas dataframe\n",
        "\n",
        "df = pd.read_csv(io.StringIO(download.decode('utf-8')))\n",
        "\n",
        "# Printing out the first 5 rows of the df\n",
        "print (df.head())"
      ],
      "metadata": {
        "colab": {
          "base_uri": "https://localhost:8080/"
        },
        "id": "BkrAl2Tp2BRC",
        "outputId": "c9d7e64e-ecf1-4101-ca44-58e94dbe2ebf"
      },
      "execution_count": 3,
      "outputs": [
        {
          "output_type": "stream",
          "name": "stdout",
          "text": [
            "   ZipCode    Pop  CoL Index Pop Density (sq.mi)  Males  Females  \\\n",
            "0    46320  15086       95.3                2257   47.6     52.4   \n",
            "1    60007  33973      104.4                2412   49.1     50.9   \n",
            "2    60018  28749      104.4                1758   50.6     49.4   \n",
            "3    60022   8486      105.4                2160   51.2     48.8   \n",
            "4    60041   9192       98.6                 958   49.7     50.3   \n",
            "\n",
            "   Median Household Income  Median price for Homes  Unemployment Rate  \\\n",
            "0                    27518                   68000               15.4   \n",
            "1                    67473                  268200                7.3   \n",
            "2                    54688                  236880                8.1   \n",
            "3                   538747                  874800                2.3   \n",
            "4                    61356                  166800               11.4   \n",
            "\n",
            "   Sex Offenders     White     Asian  Hispanic     Black  High School Diploma  \\\n",
            "0             35  0.196739  0.001989  0.304322  0.506032                 73.9   \n",
            "1             15  0.773202  0.098578  0.094722  0.013246                 94.2   \n",
            "2             16  0.566837  0.094716  0.355630  0.012209                 79.6   \n",
            "3              0  0.883102  0.025572  0.025218  0.011902                 98.6   \n",
            "4             14  0.850305  0.010226  0.116623  0.010009                 93.8   \n",
            "\n",
            "   Bachelors  Graduate  \n",
            "0       10.2       2.1  \n",
            "1       36.2      10.5  \n",
            "2       23.7       6.8  \n",
            "3       86.2      48.8  \n",
            "4       20.4       7.6  \n"
          ]
        }
      ]
    },
    {
      "cell_type": "markdown",
      "source": [
        "Above, the “import” function imports modules that are needed and installed into the platform. The second line of code goes into my Google Drive and it can browse through my Drive from the file-explorer pane. By using the code “(io.StringIO(download.decode('utf-8')))” the downloaded content turns into a pandas dataframe that can be manipulated. Then, the user can display the dataset which basically looks like an excel sheet. By showing the first 5 rows using “df.head,” the different rows and columns are printed. As you can see, the variable columns are “Zipcode”, “Pop”, “Col Index”, “Pop Density (sq.mi)”, “Males”, “ Females”, “Median Household Income”, “Median price for Homes”, “Unemployment Rate”, “Sex Offenders”, “White”, “Asian”, “Hispanic”, “Black”, “High School Diploma”, “Bachelors”, and “Graduate”. Going down each column, the viewer can see the data and how it varies from each column. This is a great way to find out which variable can be used in research to make interpretations. When looking at datasets, it’s important to check if there is missing information in the data if any data was dropped when the dataset is cleaned. By using the “.shape” function below, you can see the amount of rows and columns listed from the dataset. The order is (rows, columns) and in the Chicago- Crime-Analysis dataset, there are 85 rows and 17 columns. All 17 of the column names line up to the amount listed from “.shape.” This means there is no missing data in our dataframe."
      ],
      "metadata": {
        "id": "0_RzwgdN_Ox1"
      }
    },
    {
      "cell_type": "code",
      "source": [
        "df.shape\n",
        "#no missing data in df"
      ],
      "metadata": {
        "colab": {
          "base_uri": "https://localhost:8080/"
        },
        "id": "3eKzAugY2bYw",
        "outputId": "b0d92399-62f1-4038-be5f-f367a52513e9"
      },
      "execution_count": 4,
      "outputs": [
        {
          "output_type": "execute_result",
          "data": {
            "text/plain": [
              "(85, 17)"
            ]
          },
          "metadata": {},
          "execution_count": 4
        }
      ]
    },
    {
      "cell_type": "code",
      "source": [
        "#average amount of Males arrested \n",
        "avg_males = df['Males'].sum()/len(df)\n",
        "avg_males"
      ],
      "metadata": {
        "colab": {
          "base_uri": "https://localhost:8080/"
        },
        "id": "s6DbgvUi2oCs",
        "outputId": "75a6dc64-9cd7-4c9e-aca0-bf35ebb92d3e"
      },
      "execution_count": 5,
      "outputs": [
        {
          "output_type": "execute_result",
          "data": {
            "text/plain": [
              "48.49294117647058"
            ]
          },
          "metadata": {},
          "execution_count": 5
        }
      ]
    },
    {
      "cell_type": "code",
      "source": [
        "#average amount of Females arrested\n",
        "avg_female = df['Females'].sum()/len(df)\n",
        "avg_female"
      ],
      "metadata": {
        "colab": {
          "base_uri": "https://localhost:8080/"
        },
        "id": "zwgtX46g2uIi",
        "outputId": "16d2c831-ee06-440b-d73c-b6fd56a2df7c"
      },
      "execution_count": 6,
      "outputs": [
        {
          "output_type": "execute_result",
          "data": {
            "text/plain": [
              "51.507058823529405"
            ]
          },
          "metadata": {},
          "execution_count": 6
        }
      ]
    },
    {
      "cell_type": "markdown",
      "source": [
        "Above, the variables called “avg_males” and “avg_females” use simple math of finding the average amount of arrests for females and males from the total amount of Chicago. This can be used to see which gender gets more arrests and can help researchers dig deeper to find out the reasons why. From the Chicago dataset, the average amount of female arrests was slightly higher at 51.5 versus the 48.5 average of males. In the dataset, there are other columns of medium household income, unemployment rate, and whether or not the person arrested has a highschool, bachelors, or graduate degree. These factors can help researchers lead to the conclusion of why so many arrests happen in Chicago and where based on the zipcode. Another point researchers can further look into depth is based on race; Is a specific race targeted more often than another? Is there white privilege occurring and who is the minority out of all the groups in the location? \n"
      ],
      "metadata": {
        "id": "_dC8LlR5_X_G"
      }
    },
    {
      "cell_type": "markdown",
      "source": [
        "To look at the data further, the next piece of code selected 10 pieces of random data for the new variable “rand.” Then the 10 pieces of data were sorted by the number of female arrests in increasing order. This way, the researcher can see the highest amount of arrests based on the zip code and population numbers. The same goes for selecting 10 pieces of random data and sorting the number of male arrests in ascending order. From the results, the highest number of females arrested from the random 10 selection is 50.0, and the lowest is 52.8. The highest number of males arrested from the random 10 selection is 41.3 and the lowest is 47.1.  \n"
      ],
      "metadata": {
        "id": "UtB4WAg7_nDC"
      }
    },
    {
      "cell_type": "code",
      "source": [
        "#Collect 10 random data & sort by females increasing\n",
        "rand = df.sample(10, random_state = 100)\n",
        "\n",
        "highest_female = rand.sort_values('Females', ascending=True)\n",
        "highest_male = rand.sort_values('Males', ascending = True)\n",
        "highest_male.head()"
      ],
      "metadata": {
        "id": "rsyWCn6tAF_c",
        "colab": {
          "base_uri": "https://localhost:8080/",
          "height": 267
        },
        "outputId": "6e7166c2-b208-4463-fb4f-e7b27cf251de"
      },
      "execution_count": 7,
      "outputs": [
        {
          "output_type": "execute_result",
          "data": {
            "text/plain": [
              "    ZipCode    Pop  CoL Index Pop Density (sq.mi)  Males  Females  \\\n",
              "23    60603    882      112.2                6087   41.3     58.7   \n",
              "22    60602   1463      106.9               16809   44.6     55.4   \n",
              "80    60714  30111      107.3                4732   46.4     53.6   \n",
              "78    60706  23284      106.1                7872   46.8     53.2   \n",
              "11    60302  32259      104.7               10708   47.1     52.9   \n",
              "\n",
              "    Median Household Income  Median price for Homes  Unemployment Rate  \\\n",
              "23                   107419                  643800                6.7   \n",
              "22                    79957                  325700                0.6   \n",
              "80                    46725                  274500                8.1   \n",
              "78                    49325                  258700                9.4   \n",
              "11                   113157                  380600                7.4   \n",
              "\n",
              "    Sex Offenders     White     Asian  Hispanic     Black  \\\n",
              "23              0  0.380952  0.116780  0.032880  0.015873   \n",
              "22              7  0.541353  0.107314  0.064252  0.088175   \n",
              "80              9  0.710936  0.165488  0.086314  0.012952   \n",
              "78              7  0.835123  0.050722  0.091995  0.004982   \n",
              "11             10  0.637466  0.044205  0.061471  0.219505   \n",
              "\n",
              "    High School Diploma  Bachelors  Graduate  \n",
              "23                100.0       95.1      54.7  \n",
              "22                100.0       76.8       8.5  \n",
              "80                 84.6       28.4       8.9  \n",
              "78                 86.3       23.6       7.8  \n",
              "11                 96.4       68.3      38.6  "
            ],
            "text/html": [
              "\n",
              "  <div id=\"df-4e3ce7a4-3f58-463a-a51f-1561c1fbb641\">\n",
              "    <div class=\"colab-df-container\">\n",
              "      <div>\n",
              "<style scoped>\n",
              "    .dataframe tbody tr th:only-of-type {\n",
              "        vertical-align: middle;\n",
              "    }\n",
              "\n",
              "    .dataframe tbody tr th {\n",
              "        vertical-align: top;\n",
              "    }\n",
              "\n",
              "    .dataframe thead th {\n",
              "        text-align: right;\n",
              "    }\n",
              "</style>\n",
              "<table border=\"1\" class=\"dataframe\">\n",
              "  <thead>\n",
              "    <tr style=\"text-align: right;\">\n",
              "      <th></th>\n",
              "      <th>ZipCode</th>\n",
              "      <th>Pop</th>\n",
              "      <th>CoL Index</th>\n",
              "      <th>Pop Density (sq.mi)</th>\n",
              "      <th>Males</th>\n",
              "      <th>Females</th>\n",
              "      <th>Median Household Income</th>\n",
              "      <th>Median price for Homes</th>\n",
              "      <th>Unemployment Rate</th>\n",
              "      <th>Sex Offenders</th>\n",
              "      <th>White</th>\n",
              "      <th>Asian</th>\n",
              "      <th>Hispanic</th>\n",
              "      <th>Black</th>\n",
              "      <th>High School Diploma</th>\n",
              "      <th>Bachelors</th>\n",
              "      <th>Graduate</th>\n",
              "    </tr>\n",
              "  </thead>\n",
              "  <tbody>\n",
              "    <tr>\n",
              "      <th>23</th>\n",
              "      <td>60603</td>\n",
              "      <td>882</td>\n",
              "      <td>112.2</td>\n",
              "      <td>6087</td>\n",
              "      <td>41.3</td>\n",
              "      <td>58.7</td>\n",
              "      <td>107419</td>\n",
              "      <td>643800</td>\n",
              "      <td>6.7</td>\n",
              "      <td>0</td>\n",
              "      <td>0.380952</td>\n",
              "      <td>0.116780</td>\n",
              "      <td>0.032880</td>\n",
              "      <td>0.015873</td>\n",
              "      <td>100.0</td>\n",
              "      <td>95.1</td>\n",
              "      <td>54.7</td>\n",
              "    </tr>\n",
              "    <tr>\n",
              "      <th>22</th>\n",
              "      <td>60602</td>\n",
              "      <td>1463</td>\n",
              "      <td>106.9</td>\n",
              "      <td>16809</td>\n",
              "      <td>44.6</td>\n",
              "      <td>55.4</td>\n",
              "      <td>79957</td>\n",
              "      <td>325700</td>\n",
              "      <td>0.6</td>\n",
              "      <td>7</td>\n",
              "      <td>0.541353</td>\n",
              "      <td>0.107314</td>\n",
              "      <td>0.064252</td>\n",
              "      <td>0.088175</td>\n",
              "      <td>100.0</td>\n",
              "      <td>76.8</td>\n",
              "      <td>8.5</td>\n",
              "    </tr>\n",
              "    <tr>\n",
              "      <th>80</th>\n",
              "      <td>60714</td>\n",
              "      <td>30111</td>\n",
              "      <td>107.3</td>\n",
              "      <td>4732</td>\n",
              "      <td>46.4</td>\n",
              "      <td>53.6</td>\n",
              "      <td>46725</td>\n",
              "      <td>274500</td>\n",
              "      <td>8.1</td>\n",
              "      <td>9</td>\n",
              "      <td>0.710936</td>\n",
              "      <td>0.165488</td>\n",
              "      <td>0.086314</td>\n",
              "      <td>0.012952</td>\n",
              "      <td>84.6</td>\n",
              "      <td>28.4</td>\n",
              "      <td>8.9</td>\n",
              "    </tr>\n",
              "    <tr>\n",
              "      <th>78</th>\n",
              "      <td>60706</td>\n",
              "      <td>23284</td>\n",
              "      <td>106.1</td>\n",
              "      <td>7872</td>\n",
              "      <td>46.8</td>\n",
              "      <td>53.2</td>\n",
              "      <td>49325</td>\n",
              "      <td>258700</td>\n",
              "      <td>9.4</td>\n",
              "      <td>7</td>\n",
              "      <td>0.835123</td>\n",
              "      <td>0.050722</td>\n",
              "      <td>0.091995</td>\n",
              "      <td>0.004982</td>\n",
              "      <td>86.3</td>\n",
              "      <td>23.6</td>\n",
              "      <td>7.8</td>\n",
              "    </tr>\n",
              "    <tr>\n",
              "      <th>11</th>\n",
              "      <td>60302</td>\n",
              "      <td>32259</td>\n",
              "      <td>104.7</td>\n",
              "      <td>10708</td>\n",
              "      <td>47.1</td>\n",
              "      <td>52.9</td>\n",
              "      <td>113157</td>\n",
              "      <td>380600</td>\n",
              "      <td>7.4</td>\n",
              "      <td>10</td>\n",
              "      <td>0.637466</td>\n",
              "      <td>0.044205</td>\n",
              "      <td>0.061471</td>\n",
              "      <td>0.219505</td>\n",
              "      <td>96.4</td>\n",
              "      <td>68.3</td>\n",
              "      <td>38.6</td>\n",
              "    </tr>\n",
              "  </tbody>\n",
              "</table>\n",
              "</div>\n",
              "      <button class=\"colab-df-convert\" onclick=\"convertToInteractive('df-4e3ce7a4-3f58-463a-a51f-1561c1fbb641')\"\n",
              "              title=\"Convert this dataframe to an interactive table.\"\n",
              "              style=\"display:none;\">\n",
              "        \n",
              "  <svg xmlns=\"http://www.w3.org/2000/svg\" height=\"24px\"viewBox=\"0 0 24 24\"\n",
              "       width=\"24px\">\n",
              "    <path d=\"M0 0h24v24H0V0z\" fill=\"none\"/>\n",
              "    <path d=\"M18.56 5.44l.94 2.06.94-2.06 2.06-.94-2.06-.94-.94-2.06-.94 2.06-2.06.94zm-11 1L8.5 8.5l.94-2.06 2.06-.94-2.06-.94L8.5 2.5l-.94 2.06-2.06.94zm10 10l.94 2.06.94-2.06 2.06-.94-2.06-.94-.94-2.06-.94 2.06-2.06.94z\"/><path d=\"M17.41 7.96l-1.37-1.37c-.4-.4-.92-.59-1.43-.59-.52 0-1.04.2-1.43.59L10.3 9.45l-7.72 7.72c-.78.78-.78 2.05 0 2.83L4 21.41c.39.39.9.59 1.41.59.51 0 1.02-.2 1.41-.59l7.78-7.78 2.81-2.81c.8-.78.8-2.07 0-2.86zM5.41 20L4 18.59l7.72-7.72 1.47 1.35L5.41 20z\"/>\n",
              "  </svg>\n",
              "      </button>\n",
              "      \n",
              "  <style>\n",
              "    .colab-df-container {\n",
              "      display:flex;\n",
              "      flex-wrap:wrap;\n",
              "      gap: 12px;\n",
              "    }\n",
              "\n",
              "    .colab-df-convert {\n",
              "      background-color: #E8F0FE;\n",
              "      border: none;\n",
              "      border-radius: 50%;\n",
              "      cursor: pointer;\n",
              "      display: none;\n",
              "      fill: #1967D2;\n",
              "      height: 32px;\n",
              "      padding: 0 0 0 0;\n",
              "      width: 32px;\n",
              "    }\n",
              "\n",
              "    .colab-df-convert:hover {\n",
              "      background-color: #E2EBFA;\n",
              "      box-shadow: 0px 1px 2px rgba(60, 64, 67, 0.3), 0px 1px 3px 1px rgba(60, 64, 67, 0.15);\n",
              "      fill: #174EA6;\n",
              "    }\n",
              "\n",
              "    [theme=dark] .colab-df-convert {\n",
              "      background-color: #3B4455;\n",
              "      fill: #D2E3FC;\n",
              "    }\n",
              "\n",
              "    [theme=dark] .colab-df-convert:hover {\n",
              "      background-color: #434B5C;\n",
              "      box-shadow: 0px 1px 3px 1px rgba(0, 0, 0, 0.15);\n",
              "      filter: drop-shadow(0px 1px 2px rgba(0, 0, 0, 0.3));\n",
              "      fill: #FFFFFF;\n",
              "    }\n",
              "  </style>\n",
              "\n",
              "      <script>\n",
              "        const buttonEl =\n",
              "          document.querySelector('#df-4e3ce7a4-3f58-463a-a51f-1561c1fbb641 button.colab-df-convert');\n",
              "        buttonEl.style.display =\n",
              "          google.colab.kernel.accessAllowed ? 'block' : 'none';\n",
              "\n",
              "        async function convertToInteractive(key) {\n",
              "          const element = document.querySelector('#df-4e3ce7a4-3f58-463a-a51f-1561c1fbb641');\n",
              "          const dataTable =\n",
              "            await google.colab.kernel.invokeFunction('convertToInteractive',\n",
              "                                                     [key], {});\n",
              "          if (!dataTable) return;\n",
              "\n",
              "          const docLinkHtml = 'Like what you see? Visit the ' +\n",
              "            '<a target=\"_blank\" href=https://colab.research.google.com/notebooks/data_table.ipynb>data table notebook</a>'\n",
              "            + ' to learn more about interactive tables.';\n",
              "          element.innerHTML = '';\n",
              "          dataTable['output_type'] = 'display_data';\n",
              "          await google.colab.output.renderOutput(dataTable, element);\n",
              "          const docLink = document.createElement('div');\n",
              "          docLink.innerHTML = docLinkHtml;\n",
              "          element.appendChild(docLink);\n",
              "        }\n",
              "      </script>\n",
              "    </div>\n",
              "  </div>\n",
              "  "
            ]
          },
          "metadata": {},
          "execution_count": 7
        }
      ]
    },
    {
      "cell_type": "code",
      "source": [
        "highest_female.head()"
      ],
      "metadata": {
        "colab": {
          "base_uri": "https://localhost:8080/",
          "height": 267
        },
        "id": "lJdDxNpwkJI6",
        "outputId": "fe2355cd-b811-45cb-a6a4-2aba3e3613e7"
      },
      "execution_count": 8,
      "outputs": [
        {
          "output_type": "execute_result",
          "data": {
            "text/plain": [
              "    ZipCode    Pop  CoL Index Pop Density (sq.mi)  Males  Females  \\\n",
              "29    60609  62773      105.1                8092   50.0     50.0   \n",
              "43    60623  85158      105.5               15899   49.6     50.4   \n",
              "73    60657  68088      107.2               29949   49.5     50.5   \n",
              "5     60068  37421      106.2                5275   47.8     52.2   \n",
              "54    60636  40918      103.5               10204   47.2     52.8   \n",
              "\n",
              "    Median Household Income  Median price for Homes  Unemployment Rate  \\\n",
              "29                    33630                  171200               21.9   \n",
              "43                    28949                  155600               18.6   \n",
              "73                    75885                  392500                4.6   \n",
              "5                     87119                  401700                5.5   \n",
              "54                    26352                   99700               35.5   \n",
              "\n",
              "    Sex Offenders     White     Asian  Hispanic     Black  \\\n",
              "29             96  0.145445  0.036863  0.549424  0.292036   \n",
              "43            101  0.019411  0.001268  0.697973  0.356619   \n",
              "73             14  0.797556  0.056809  0.067398  0.026495   \n",
              "5               8  0.901553  0.036691  0.047460  0.004489   \n",
              "54            115  0.004472  0.000904  0.026883  0.956327   \n",
              "\n",
              "    High School Diploma  Bachelors  Graduate  \n",
              "29                 69.1       12.0       4.2  \n",
              "43                 55.7        7.7       2.2  \n",
              "73                 97.9       80.4      33.8  \n",
              "5                  95.7       55.1      23.5  \n",
              "54                 76.7        9.1       2.4  "
            ],
            "text/html": [
              "\n",
              "  <div id=\"df-56aa0c68-951e-48a8-a1ff-4e53ea12327d\">\n",
              "    <div class=\"colab-df-container\">\n",
              "      <div>\n",
              "<style scoped>\n",
              "    .dataframe tbody tr th:only-of-type {\n",
              "        vertical-align: middle;\n",
              "    }\n",
              "\n",
              "    .dataframe tbody tr th {\n",
              "        vertical-align: top;\n",
              "    }\n",
              "\n",
              "    .dataframe thead th {\n",
              "        text-align: right;\n",
              "    }\n",
              "</style>\n",
              "<table border=\"1\" class=\"dataframe\">\n",
              "  <thead>\n",
              "    <tr style=\"text-align: right;\">\n",
              "      <th></th>\n",
              "      <th>ZipCode</th>\n",
              "      <th>Pop</th>\n",
              "      <th>CoL Index</th>\n",
              "      <th>Pop Density (sq.mi)</th>\n",
              "      <th>Males</th>\n",
              "      <th>Females</th>\n",
              "      <th>Median Household Income</th>\n",
              "      <th>Median price for Homes</th>\n",
              "      <th>Unemployment Rate</th>\n",
              "      <th>Sex Offenders</th>\n",
              "      <th>White</th>\n",
              "      <th>Asian</th>\n",
              "      <th>Hispanic</th>\n",
              "      <th>Black</th>\n",
              "      <th>High School Diploma</th>\n",
              "      <th>Bachelors</th>\n",
              "      <th>Graduate</th>\n",
              "    </tr>\n",
              "  </thead>\n",
              "  <tbody>\n",
              "    <tr>\n",
              "      <th>29</th>\n",
              "      <td>60609</td>\n",
              "      <td>62773</td>\n",
              "      <td>105.1</td>\n",
              "      <td>8092</td>\n",
              "      <td>50.0</td>\n",
              "      <td>50.0</td>\n",
              "      <td>33630</td>\n",
              "      <td>171200</td>\n",
              "      <td>21.9</td>\n",
              "      <td>96</td>\n",
              "      <td>0.145445</td>\n",
              "      <td>0.036863</td>\n",
              "      <td>0.549424</td>\n",
              "      <td>0.292036</td>\n",
              "      <td>69.1</td>\n",
              "      <td>12.0</td>\n",
              "      <td>4.2</td>\n",
              "    </tr>\n",
              "    <tr>\n",
              "      <th>43</th>\n",
              "      <td>60623</td>\n",
              "      <td>85158</td>\n",
              "      <td>105.5</td>\n",
              "      <td>15899</td>\n",
              "      <td>49.6</td>\n",
              "      <td>50.4</td>\n",
              "      <td>28949</td>\n",
              "      <td>155600</td>\n",
              "      <td>18.6</td>\n",
              "      <td>101</td>\n",
              "      <td>0.019411</td>\n",
              "      <td>0.001268</td>\n",
              "      <td>0.697973</td>\n",
              "      <td>0.356619</td>\n",
              "      <td>55.7</td>\n",
              "      <td>7.7</td>\n",
              "      <td>2.2</td>\n",
              "    </tr>\n",
              "    <tr>\n",
              "      <th>73</th>\n",
              "      <td>60657</td>\n",
              "      <td>68088</td>\n",
              "      <td>107.2</td>\n",
              "      <td>29949</td>\n",
              "      <td>49.5</td>\n",
              "      <td>50.5</td>\n",
              "      <td>75885</td>\n",
              "      <td>392500</td>\n",
              "      <td>4.6</td>\n",
              "      <td>14</td>\n",
              "      <td>0.797556</td>\n",
              "      <td>0.056809</td>\n",
              "      <td>0.067398</td>\n",
              "      <td>0.026495</td>\n",
              "      <td>97.9</td>\n",
              "      <td>80.4</td>\n",
              "      <td>33.8</td>\n",
              "    </tr>\n",
              "    <tr>\n",
              "      <th>5</th>\n",
              "      <td>60068</td>\n",
              "      <td>37421</td>\n",
              "      <td>106.2</td>\n",
              "      <td>5275</td>\n",
              "      <td>47.8</td>\n",
              "      <td>52.2</td>\n",
              "      <td>87119</td>\n",
              "      <td>401700</td>\n",
              "      <td>5.5</td>\n",
              "      <td>8</td>\n",
              "      <td>0.901553</td>\n",
              "      <td>0.036691</td>\n",
              "      <td>0.047460</td>\n",
              "      <td>0.004489</td>\n",
              "      <td>95.7</td>\n",
              "      <td>55.1</td>\n",
              "      <td>23.5</td>\n",
              "    </tr>\n",
              "    <tr>\n",
              "      <th>54</th>\n",
              "      <td>60636</td>\n",
              "      <td>40918</td>\n",
              "      <td>103.5</td>\n",
              "      <td>10204</td>\n",
              "      <td>47.2</td>\n",
              "      <td>52.8</td>\n",
              "      <td>26352</td>\n",
              "      <td>99700</td>\n",
              "      <td>35.5</td>\n",
              "      <td>115</td>\n",
              "      <td>0.004472</td>\n",
              "      <td>0.000904</td>\n",
              "      <td>0.026883</td>\n",
              "      <td>0.956327</td>\n",
              "      <td>76.7</td>\n",
              "      <td>9.1</td>\n",
              "      <td>2.4</td>\n",
              "    </tr>\n",
              "  </tbody>\n",
              "</table>\n",
              "</div>\n",
              "      <button class=\"colab-df-convert\" onclick=\"convertToInteractive('df-56aa0c68-951e-48a8-a1ff-4e53ea12327d')\"\n",
              "              title=\"Convert this dataframe to an interactive table.\"\n",
              "              style=\"display:none;\">\n",
              "        \n",
              "  <svg xmlns=\"http://www.w3.org/2000/svg\" height=\"24px\"viewBox=\"0 0 24 24\"\n",
              "       width=\"24px\">\n",
              "    <path d=\"M0 0h24v24H0V0z\" fill=\"none\"/>\n",
              "    <path d=\"M18.56 5.44l.94 2.06.94-2.06 2.06-.94-2.06-.94-.94-2.06-.94 2.06-2.06.94zm-11 1L8.5 8.5l.94-2.06 2.06-.94-2.06-.94L8.5 2.5l-.94 2.06-2.06.94zm10 10l.94 2.06.94-2.06 2.06-.94-2.06-.94-.94-2.06-.94 2.06-2.06.94z\"/><path d=\"M17.41 7.96l-1.37-1.37c-.4-.4-.92-.59-1.43-.59-.52 0-1.04.2-1.43.59L10.3 9.45l-7.72 7.72c-.78.78-.78 2.05 0 2.83L4 21.41c.39.39.9.59 1.41.59.51 0 1.02-.2 1.41-.59l7.78-7.78 2.81-2.81c.8-.78.8-2.07 0-2.86zM5.41 20L4 18.59l7.72-7.72 1.47 1.35L5.41 20z\"/>\n",
              "  </svg>\n",
              "      </button>\n",
              "      \n",
              "  <style>\n",
              "    .colab-df-container {\n",
              "      display:flex;\n",
              "      flex-wrap:wrap;\n",
              "      gap: 12px;\n",
              "    }\n",
              "\n",
              "    .colab-df-convert {\n",
              "      background-color: #E8F0FE;\n",
              "      border: none;\n",
              "      border-radius: 50%;\n",
              "      cursor: pointer;\n",
              "      display: none;\n",
              "      fill: #1967D2;\n",
              "      height: 32px;\n",
              "      padding: 0 0 0 0;\n",
              "      width: 32px;\n",
              "    }\n",
              "\n",
              "    .colab-df-convert:hover {\n",
              "      background-color: #E2EBFA;\n",
              "      box-shadow: 0px 1px 2px rgba(60, 64, 67, 0.3), 0px 1px 3px 1px rgba(60, 64, 67, 0.15);\n",
              "      fill: #174EA6;\n",
              "    }\n",
              "\n",
              "    [theme=dark] .colab-df-convert {\n",
              "      background-color: #3B4455;\n",
              "      fill: #D2E3FC;\n",
              "    }\n",
              "\n",
              "    [theme=dark] .colab-df-convert:hover {\n",
              "      background-color: #434B5C;\n",
              "      box-shadow: 0px 1px 3px 1px rgba(0, 0, 0, 0.15);\n",
              "      filter: drop-shadow(0px 1px 2px rgba(0, 0, 0, 0.3));\n",
              "      fill: #FFFFFF;\n",
              "    }\n",
              "  </style>\n",
              "\n",
              "      <script>\n",
              "        const buttonEl =\n",
              "          document.querySelector('#df-56aa0c68-951e-48a8-a1ff-4e53ea12327d button.colab-df-convert');\n",
              "        buttonEl.style.display =\n",
              "          google.colab.kernel.accessAllowed ? 'block' : 'none';\n",
              "\n",
              "        async function convertToInteractive(key) {\n",
              "          const element = document.querySelector('#df-56aa0c68-951e-48a8-a1ff-4e53ea12327d');\n",
              "          const dataTable =\n",
              "            await google.colab.kernel.invokeFunction('convertToInteractive',\n",
              "                                                     [key], {});\n",
              "          if (!dataTable) return;\n",
              "\n",
              "          const docLinkHtml = 'Like what you see? Visit the ' +\n",
              "            '<a target=\"_blank\" href=https://colab.research.google.com/notebooks/data_table.ipynb>data table notebook</a>'\n",
              "            + ' to learn more about interactive tables.';\n",
              "          element.innerHTML = '';\n",
              "          dataTable['output_type'] = 'display_data';\n",
              "          await google.colab.output.renderOutput(dataTable, element);\n",
              "          const docLink = document.createElement('div');\n",
              "          docLink.innerHTML = docLinkHtml;\n",
              "          element.appendChild(docLink);\n",
              "        }\n",
              "      </script>\n",
              "    </div>\n",
              "  </div>\n",
              "  "
            ]
          },
          "metadata": {},
          "execution_count": 8
        }
      ]
    },
    {
      "cell_type": "markdown",
      "source": [
        "In addition to calculating the average amount of female and average amount of male arrests, I created a visualization to display the number of arrests based on gender. Below is a density heat map that shows the females to males ratio by using the function “px.density_heatmap.” The function and import of “px,” also known as Plotly Express, is used to create figures or visualizations of data. As you can see below, the pink block starts with an average of 50-54.9 male arrests and 45-49.9 female arrests. As you go down to the yellow and purple block, the ratio of more male arrests than females changes with females having more arrests than males. The highest, purple block, has 55-59.9 female arrests and 40-44.9 male arrests. The different color blocks color codes the grouping of data based on the amount numbered from the dataset.\n"
      ],
      "metadata": {
        "id": "8Wf3BOnY2ykR"
      }
    },
    {
      "cell_type": "code",
      "source": [
        "fig = px.density_heatmap(df, x = 'Females', y = 'Males', title = 'Females to Males ratio')\n",
        "fig"
      ],
      "metadata": {
        "colab": {
          "base_uri": "https://localhost:8080/",
          "height": 542
        },
        "id": "RTip3wjFIN1T",
        "outputId": "bad5e55a-60b8-4c01-b4e5-eafd603749ee"
      },
      "execution_count": 9,
      "outputs": [
        {
          "output_type": "display_data",
          "data": {
            "text/html": [
              "<html>\n",
              "<head><meta charset=\"utf-8\" /></head>\n",
              "<body>\n",
              "    <div>            <script src=\"https://cdnjs.cloudflare.com/ajax/libs/mathjax/2.7.5/MathJax.js?config=TeX-AMS-MML_SVG\"></script><script type=\"text/javascript\">if (window.MathJax) {MathJax.Hub.Config({SVG: {font: \"STIX-Web\"}});}</script>                <script type=\"text/javascript\">window.PlotlyConfig = {MathJaxConfig: 'local'};</script>\n",
              "        <script src=\"https://cdn.plot.ly/plotly-2.8.3.min.js\"></script>                <div id=\"d314805f-2b2f-4f24-9411-9693e9b3be91\" class=\"plotly-graph-div\" style=\"height:525px; width:100%;\"></div>            <script type=\"text/javascript\">                                    window.PLOTLYENV=window.PLOTLYENV || {};                                    if (document.getElementById(\"d314805f-2b2f-4f24-9411-9693e9b3be91\")) {                    Plotly.newPlot(                        \"d314805f-2b2f-4f24-9411-9693e9b3be91\",                        [{\"coloraxis\":\"coloraxis\",\"hovertemplate\":\"Females=%{x}<br>Males=%{y}<br>count=%{z}<extra></extra>\",\"name\":\"\",\"x\":[52.4,50.9,49.4,48.8,50.3,52.2,49.9,51.9,50.6,47.1,54.3,52.9,52.8,49.6,53.7,51.2,60.8,51.2,48.4,49.3,53.7,50.2,55.4,58.7,45.8,51.8,43.9,51.6,44.3,50.0,54.4,53.9,51.9,49.9,50.8,54.1,51.5,54.1,49.8,56.9,56.1,56.5,50.4,50.4,53.2,48.7,49.9,55.9,51.7,50.7,51.7,49.0,50.2,50.6,52.8,56.0,51.4,50.6,47.4,49.6,45.2,54.4,54.5,51.9,52.5,49.3,56.1,51.8,50.5,56.8,51.9,49.7,50.0,50.5,48.8,49.5,51.5,50.0,53.2,51.5,53.6,49.3,52.8,55.4,44.2],\"xaxis\":\"x\",\"xbingroup\":\"x\",\"y\":[47.6,49.1,50.6,51.2,49.7,47.8,50.1,48.1,49.4,52.9,45.7,47.1,47.2,50.4,46.3,48.8,39.2,48.8,51.6,50.7,46.3,49.8,44.6,41.3,54.2,48.2,56.1,48.4,55.7,50.0,45.6,46.1,48.1,50.1,49.2,45.9,48.5,45.9,50.2,43.1,43.9,43.5,49.6,49.6,46.8,51.3,50.1,44.1,48.3,49.3,48.3,51.0,49.8,49.4,47.2,44.0,48.6,49.4,52.6,50.4,54.8,45.6,45.5,48.1,47.5,50.7,43.9,48.2,49.5,43.2,48.1,50.3,50.0,49.5,51.2,50.5,48.5,50.0,46.8,48.5,46.4,50.7,47.2,44.6,55.8],\"yaxis\":\"y\",\"ybingroup\":\"y\",\"type\":\"histogram2d\"}],                        {\"template\":{\"data\":{\"bar\":[{\"error_x\":{\"color\":\"#2a3f5f\"},\"error_y\":{\"color\":\"#2a3f5f\"},\"marker\":{\"line\":{\"color\":\"#E5ECF6\",\"width\":0.5},\"pattern\":{\"fillmode\":\"overlay\",\"size\":10,\"solidity\":0.2}},\"type\":\"bar\"}],\"barpolar\":[{\"marker\":{\"line\":{\"color\":\"#E5ECF6\",\"width\":0.5},\"pattern\":{\"fillmode\":\"overlay\",\"size\":10,\"solidity\":0.2}},\"type\":\"barpolar\"}],\"carpet\":[{\"aaxis\":{\"endlinecolor\":\"#2a3f5f\",\"gridcolor\":\"white\",\"linecolor\":\"white\",\"minorgridcolor\":\"white\",\"startlinecolor\":\"#2a3f5f\"},\"baxis\":{\"endlinecolor\":\"#2a3f5f\",\"gridcolor\":\"white\",\"linecolor\":\"white\",\"minorgridcolor\":\"white\",\"startlinecolor\":\"#2a3f5f\"},\"type\":\"carpet\"}],\"choropleth\":[{\"colorbar\":{\"outlinewidth\":0,\"ticks\":\"\"},\"type\":\"choropleth\"}],\"contour\":[{\"colorbar\":{\"outlinewidth\":0,\"ticks\":\"\"},\"colorscale\":[[0.0,\"#0d0887\"],[0.1111111111111111,\"#46039f\"],[0.2222222222222222,\"#7201a8\"],[0.3333333333333333,\"#9c179e\"],[0.4444444444444444,\"#bd3786\"],[0.5555555555555556,\"#d8576b\"],[0.6666666666666666,\"#ed7953\"],[0.7777777777777778,\"#fb9f3a\"],[0.8888888888888888,\"#fdca26\"],[1.0,\"#f0f921\"]],\"type\":\"contour\"}],\"contourcarpet\":[{\"colorbar\":{\"outlinewidth\":0,\"ticks\":\"\"},\"type\":\"contourcarpet\"}],\"heatmap\":[{\"colorbar\":{\"outlinewidth\":0,\"ticks\":\"\"},\"colorscale\":[[0.0,\"#0d0887\"],[0.1111111111111111,\"#46039f\"],[0.2222222222222222,\"#7201a8\"],[0.3333333333333333,\"#9c179e\"],[0.4444444444444444,\"#bd3786\"],[0.5555555555555556,\"#d8576b\"],[0.6666666666666666,\"#ed7953\"],[0.7777777777777778,\"#fb9f3a\"],[0.8888888888888888,\"#fdca26\"],[1.0,\"#f0f921\"]],\"type\":\"heatmap\"}],\"heatmapgl\":[{\"colorbar\":{\"outlinewidth\":0,\"ticks\":\"\"},\"colorscale\":[[0.0,\"#0d0887\"],[0.1111111111111111,\"#46039f\"],[0.2222222222222222,\"#7201a8\"],[0.3333333333333333,\"#9c179e\"],[0.4444444444444444,\"#bd3786\"],[0.5555555555555556,\"#d8576b\"],[0.6666666666666666,\"#ed7953\"],[0.7777777777777778,\"#fb9f3a\"],[0.8888888888888888,\"#fdca26\"],[1.0,\"#f0f921\"]],\"type\":\"heatmapgl\"}],\"histogram\":[{\"marker\":{\"pattern\":{\"fillmode\":\"overlay\",\"size\":10,\"solidity\":0.2}},\"type\":\"histogram\"}],\"histogram2d\":[{\"colorbar\":{\"outlinewidth\":0,\"ticks\":\"\"},\"colorscale\":[[0.0,\"#0d0887\"],[0.1111111111111111,\"#46039f\"],[0.2222222222222222,\"#7201a8\"],[0.3333333333333333,\"#9c179e\"],[0.4444444444444444,\"#bd3786\"],[0.5555555555555556,\"#d8576b\"],[0.6666666666666666,\"#ed7953\"],[0.7777777777777778,\"#fb9f3a\"],[0.8888888888888888,\"#fdca26\"],[1.0,\"#f0f921\"]],\"type\":\"histogram2d\"}],\"histogram2dcontour\":[{\"colorbar\":{\"outlinewidth\":0,\"ticks\":\"\"},\"colorscale\":[[0.0,\"#0d0887\"],[0.1111111111111111,\"#46039f\"],[0.2222222222222222,\"#7201a8\"],[0.3333333333333333,\"#9c179e\"],[0.4444444444444444,\"#bd3786\"],[0.5555555555555556,\"#d8576b\"],[0.6666666666666666,\"#ed7953\"],[0.7777777777777778,\"#fb9f3a\"],[0.8888888888888888,\"#fdca26\"],[1.0,\"#f0f921\"]],\"type\":\"histogram2dcontour\"}],\"mesh3d\":[{\"colorbar\":{\"outlinewidth\":0,\"ticks\":\"\"},\"type\":\"mesh3d\"}],\"parcoords\":[{\"line\":{\"colorbar\":{\"outlinewidth\":0,\"ticks\":\"\"}},\"type\":\"parcoords\"}],\"pie\":[{\"automargin\":true,\"type\":\"pie\"}],\"scatter\":[{\"marker\":{\"colorbar\":{\"outlinewidth\":0,\"ticks\":\"\"}},\"type\":\"scatter\"}],\"scatter3d\":[{\"line\":{\"colorbar\":{\"outlinewidth\":0,\"ticks\":\"\"}},\"marker\":{\"colorbar\":{\"outlinewidth\":0,\"ticks\":\"\"}},\"type\":\"scatter3d\"}],\"scattercarpet\":[{\"marker\":{\"colorbar\":{\"outlinewidth\":0,\"ticks\":\"\"}},\"type\":\"scattercarpet\"}],\"scattergeo\":[{\"marker\":{\"colorbar\":{\"outlinewidth\":0,\"ticks\":\"\"}},\"type\":\"scattergeo\"}],\"scattergl\":[{\"marker\":{\"colorbar\":{\"outlinewidth\":0,\"ticks\":\"\"}},\"type\":\"scattergl\"}],\"scattermapbox\":[{\"marker\":{\"colorbar\":{\"outlinewidth\":0,\"ticks\":\"\"}},\"type\":\"scattermapbox\"}],\"scatterpolar\":[{\"marker\":{\"colorbar\":{\"outlinewidth\":0,\"ticks\":\"\"}},\"type\":\"scatterpolar\"}],\"scatterpolargl\":[{\"marker\":{\"colorbar\":{\"outlinewidth\":0,\"ticks\":\"\"}},\"type\":\"scatterpolargl\"}],\"scatterternary\":[{\"marker\":{\"colorbar\":{\"outlinewidth\":0,\"ticks\":\"\"}},\"type\":\"scatterternary\"}],\"surface\":[{\"colorbar\":{\"outlinewidth\":0,\"ticks\":\"\"},\"colorscale\":[[0.0,\"#0d0887\"],[0.1111111111111111,\"#46039f\"],[0.2222222222222222,\"#7201a8\"],[0.3333333333333333,\"#9c179e\"],[0.4444444444444444,\"#bd3786\"],[0.5555555555555556,\"#d8576b\"],[0.6666666666666666,\"#ed7953\"],[0.7777777777777778,\"#fb9f3a\"],[0.8888888888888888,\"#fdca26\"],[1.0,\"#f0f921\"]],\"type\":\"surface\"}],\"table\":[{\"cells\":{\"fill\":{\"color\":\"#EBF0F8\"},\"line\":{\"color\":\"white\"}},\"header\":{\"fill\":{\"color\":\"#C8D4E3\"},\"line\":{\"color\":\"white\"}},\"type\":\"table\"}]},\"layout\":{\"annotationdefaults\":{\"arrowcolor\":\"#2a3f5f\",\"arrowhead\":0,\"arrowwidth\":1},\"autotypenumbers\":\"strict\",\"coloraxis\":{\"colorbar\":{\"outlinewidth\":0,\"ticks\":\"\"}},\"colorscale\":{\"diverging\":[[0,\"#8e0152\"],[0.1,\"#c51b7d\"],[0.2,\"#de77ae\"],[0.3,\"#f1b6da\"],[0.4,\"#fde0ef\"],[0.5,\"#f7f7f7\"],[0.6,\"#e6f5d0\"],[0.7,\"#b8e186\"],[0.8,\"#7fbc41\"],[0.9,\"#4d9221\"],[1,\"#276419\"]],\"sequential\":[[0.0,\"#0d0887\"],[0.1111111111111111,\"#46039f\"],[0.2222222222222222,\"#7201a8\"],[0.3333333333333333,\"#9c179e\"],[0.4444444444444444,\"#bd3786\"],[0.5555555555555556,\"#d8576b\"],[0.6666666666666666,\"#ed7953\"],[0.7777777777777778,\"#fb9f3a\"],[0.8888888888888888,\"#fdca26\"],[1.0,\"#f0f921\"]],\"sequentialminus\":[[0.0,\"#0d0887\"],[0.1111111111111111,\"#46039f\"],[0.2222222222222222,\"#7201a8\"],[0.3333333333333333,\"#9c179e\"],[0.4444444444444444,\"#bd3786\"],[0.5555555555555556,\"#d8576b\"],[0.6666666666666666,\"#ed7953\"],[0.7777777777777778,\"#fb9f3a\"],[0.8888888888888888,\"#fdca26\"],[1.0,\"#f0f921\"]]},\"colorway\":[\"#636efa\",\"#EF553B\",\"#00cc96\",\"#ab63fa\",\"#FFA15A\",\"#19d3f3\",\"#FF6692\",\"#B6E880\",\"#FF97FF\",\"#FECB52\"],\"font\":{\"color\":\"#2a3f5f\"},\"geo\":{\"bgcolor\":\"white\",\"lakecolor\":\"white\",\"landcolor\":\"#E5ECF6\",\"showlakes\":true,\"showland\":true,\"subunitcolor\":\"white\"},\"hoverlabel\":{\"align\":\"left\"},\"hovermode\":\"closest\",\"mapbox\":{\"style\":\"light\"},\"paper_bgcolor\":\"white\",\"plot_bgcolor\":\"#E5ECF6\",\"polar\":{\"angularaxis\":{\"gridcolor\":\"white\",\"linecolor\":\"white\",\"ticks\":\"\"},\"bgcolor\":\"#E5ECF6\",\"radialaxis\":{\"gridcolor\":\"white\",\"linecolor\":\"white\",\"ticks\":\"\"}},\"scene\":{\"xaxis\":{\"backgroundcolor\":\"#E5ECF6\",\"gridcolor\":\"white\",\"gridwidth\":2,\"linecolor\":\"white\",\"showbackground\":true,\"ticks\":\"\",\"zerolinecolor\":\"white\"},\"yaxis\":{\"backgroundcolor\":\"#E5ECF6\",\"gridcolor\":\"white\",\"gridwidth\":2,\"linecolor\":\"white\",\"showbackground\":true,\"ticks\":\"\",\"zerolinecolor\":\"white\"},\"zaxis\":{\"backgroundcolor\":\"#E5ECF6\",\"gridcolor\":\"white\",\"gridwidth\":2,\"linecolor\":\"white\",\"showbackground\":true,\"ticks\":\"\",\"zerolinecolor\":\"white\"}},\"shapedefaults\":{\"line\":{\"color\":\"#2a3f5f\"}},\"ternary\":{\"aaxis\":{\"gridcolor\":\"white\",\"linecolor\":\"white\",\"ticks\":\"\"},\"baxis\":{\"gridcolor\":\"white\",\"linecolor\":\"white\",\"ticks\":\"\"},\"bgcolor\":\"#E5ECF6\",\"caxis\":{\"gridcolor\":\"white\",\"linecolor\":\"white\",\"ticks\":\"\"}},\"title\":{\"x\":0.05},\"xaxis\":{\"automargin\":true,\"gridcolor\":\"white\",\"linecolor\":\"white\",\"ticks\":\"\",\"title\":{\"standoff\":15},\"zerolinecolor\":\"white\",\"zerolinewidth\":2},\"yaxis\":{\"automargin\":true,\"gridcolor\":\"white\",\"linecolor\":\"white\",\"ticks\":\"\",\"title\":{\"standoff\":15},\"zerolinecolor\":\"white\",\"zerolinewidth\":2}}},\"xaxis\":{\"anchor\":\"y\",\"domain\":[0.0,1.0],\"title\":{\"text\":\"Females\"}},\"yaxis\":{\"anchor\":\"x\",\"domain\":[0.0,1.0],\"title\":{\"text\":\"Males\"}},\"coloraxis\":{\"colorbar\":{\"title\":{\"text\":\"count\"}},\"colorscale\":[[0.0,\"#0d0887\"],[0.1111111111111111,\"#46039f\"],[0.2222222222222222,\"#7201a8\"],[0.3333333333333333,\"#9c179e\"],[0.4444444444444444,\"#bd3786\"],[0.5555555555555556,\"#d8576b\"],[0.6666666666666666,\"#ed7953\"],[0.7777777777777778,\"#fb9f3a\"],[0.8888888888888888,\"#fdca26\"],[1.0,\"#f0f921\"]]},\"legend\":{\"tracegroupgap\":0},\"title\":{\"text\":\"Females to Males ratio\"}},                        {\"responsive\": true}                    ).then(function(){\n",
              "                            \n",
              "var gd = document.getElementById('d314805f-2b2f-4f24-9411-9693e9b3be91');\n",
              "var x = new MutationObserver(function (mutations, observer) {{\n",
              "        var display = window.getComputedStyle(gd).display;\n",
              "        if (!display || display === 'none') {{\n",
              "            console.log([gd, 'removed!']);\n",
              "            Plotly.purge(gd);\n",
              "            observer.disconnect();\n",
              "        }}\n",
              "}});\n",
              "\n",
              "// Listen for the removal of the full notebook cells\n",
              "var notebookContainer = gd.closest('#notebook-container');\n",
              "if (notebookContainer) {{\n",
              "    x.observe(notebookContainer, {childList: true});\n",
              "}}\n",
              "\n",
              "// Listen for the clearing of the current output cell\n",
              "var outputEl = gd.closest('.output');\n",
              "if (outputEl) {{\n",
              "    x.observe(outputEl, {childList: true});\n",
              "}}\n",
              "\n",
              "                        })                };                            </script>        </div>\n",
              "</body>\n",
              "</html>"
            ]
          },
          "metadata": {}
        }
      ]
    },
    {
      "cell_type": "markdown",
      "source": [
        "The function “plt” is used in every line below. By importing the library matplotlib.pyplot as plt, we can create many functions for plotting data and visualizing it in various forms. With the import statement, all functions and methods associated with matplotlib.pyplot can now be accessed using plt.\n",
        "Another popular Plotly Express visualization is to create a histogram using the function “.hist().” With just a few lines of code, below I created a histogram displaying the amount of female and male sex offenders by the column name “Sex Offenders.” By using the other python library NumPy library, or np, this works with arrays and numbers. An array is where you can store numbers and in this case, the stored numbers are the amount of sex offenders for females and males. The line of code using “np.arrange(6)” creates an array for where it starts and stops. This generates an array of numbers from 0 to 5 in steps of 1, which is [0, 1, 2, 3, 4, 5]. \n",
        "\n",
        "When creating a histogram, it’s important to add a x-label, y-label, and title. Adding a legend is optional, but in this case it’s useful so you know which column of data is being displayed which is the amount of sex offenders. The visualization also allows us to quickly and easily compare the amount of male and female sex offenders and make informed decisions about the data.\n"
      ],
      "metadata": {
        "id": "P6qsu_zs_thn"
      }
    },
    {
      "cell_type": "code",
      "source": [
        "plt.hist(df['Sex Offenders'], bins = 2, color = 'purple') \n",
        "plt.xlabel('Type') \n",
        "plt.ylabel('Count') \n",
        "plt.title('Number of Sex Offenders by Gender') \n",
        "plt.xticks(np.arange(2), ('Males', 'Females'), rotation = 45, ha = 'left') \n",
        "plt.legend(['Sex Offenders'])\n",
        "plt.show()"
      ],
      "metadata": {
        "colab": {
          "base_uri": "https://localhost:8080/",
          "height": 322
        },
        "id": "MkGdvnolJV-3",
        "outputId": "616e9700-05c1-4f3d-e29a-87f092dc0071"
      },
      "execution_count": 10,
      "outputs": [
        {
          "output_type": "display_data",
          "data": {
            "text/plain": [
              "<Figure size 432x288 with 1 Axes>"
            ],
            "image/png": "[encoded data removed]"
          },
          "metadata": {
            "needs_background": "light"
          }
        }
      ]
    },
    {
      "cell_type": "markdown",
      "source": [
        "After completing the analysis on Chicago crime rates from 2005 to 2017, one of the challenges I faced was finding a way to import the dataset from Github to Google Colab. I had to download and upload the dataset to my Google Drive so I just had to import the data from my Drive. Other challenges I ran into were organizing the data and figuring out which pieces of data to incorporate into the analysis of Google Colab. I also had to make sure I was using the correct formulas and data manipulation techniques to ensure accurate results. In addition, there are some other challenges I foresee with researching Chicago crime. It's interesting to see that there is no gender bias towards males being the most arrested in Chicago and that more females are arrested on average. However, it's important to note that this dataset only covers crimes committed between 2005 and 2017, so it may not be representative of the current situation. It's also important to approach the data with caution and not jump to conclusions without further analysis and research. It's good that this dataset can help us look into income, education, and race to understand the reasons behind the high number of arrests in Chicago. Additionally, it's essential to look into the socio-economic factors that may be driving the high crime rate in Chicago, such as income levels, education, and racial disparities.  \n",
        "\n",
        "In conclusion, the Chicago Crime Analysis dataset shows that there is no gender bias toward males being arrested the most. The information from this dataset can help researchers look further into why and where criminal occurrences are in Chicago. By finding the average amount of male arrests at 48.5 and the number of female arrests at 51.5, it is evident that there are more female arrests than males. From the 10 randomly selected samples of data used to find the amount of female and male arrests and sorted in ascending order, there were 50 female arrests and 41.3 male arrests being the smallest. With this data, researchers can conclude criminal activity in Chicago and look into further details, such as gender bias and the type of arrests. This can also help them understand the drive behind criminal activity as well as the environment and race of the individuals arrested. \n",
        "\n",
        "\n",
        "\n"
      ],
      "metadata": {
        "id": "43QWmOiHAYJy"
      }
    }
  ]
}